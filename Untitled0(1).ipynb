{
 "metadata": {
  "name": "",
  "signature": "sha256:a218d487f7cda98f4254b39409f3b5ad39d17f112cf14a4dd9ced761fe2aa91f"
 },
 "nbformat": 3,
 "nbformat_minor": 0,
 "worksheets": [
  {
   "cells": [
    {
     "cell_type": "code",
     "collapsed": false,
     "input": [
      "import csv\n",
      "import seaborn as sns\n",
      "import numpy as np\n",
      "import matplotlib.pyplot as plt\n",
      "import pandas as ps"
     ],
     "language": "python",
     "metadata": {},
     "outputs": [],
     "prompt_number": 10
    },
    {
     "cell_type": "code",
     "collapsed": false,
     "input": [
      "rkd = ps.read_csv('C:\\\\Users\\\\Brett\\\\Documents\\\\Data\\\\riverkeeper_data_2013.csv')"
     ],
     "language": "python",
     "metadata": {},
     "outputs": [],
     "prompt_number": 11
    },
    {
     "cell_type": "code",
     "collapsed": false,
     "input": [
      "rkd['Date'] = ps.Series([ps.to_datetime(x) for x in rkd['Date']])"
     ],
     "language": "python",
     "metadata": {},
     "outputs": [],
     "prompt_number": 12
    },
    {
     "cell_type": "markdown",
     "metadata": {},
     "source": [
      "Converting anything that is 'less than' or 'greater than' to just that number. (i.e. <10 becomes 10)"
     ]
    },
    {
     "cell_type": "code",
     "collapsed": false,
     "input": [
      "for i in range(len(rkd['EnteroCount'])):\n",
      "    if not rkd['EnteroCount'][i].isdigit():\n",
      "        rkd['EnteroCount'][i] = rkd['EnteroCount'][i][1:]"
     ],
     "language": "python",
     "metadata": {},
     "outputs": [],
     "prompt_number": 13
    },
    {
     "cell_type": "code",
     "collapsed": false,
     "input": [
      "rkd['EnteroCount'] = rkd['EnteroCount'].convert_objects(convert_numeric=True)"
     ],
     "language": "python",
     "metadata": {},
     "outputs": [],
     "prompt_number": 14
    },
    {
     "cell_type": "code",
     "collapsed": false,
     "input": [
      "%matplotlib inline\n",
      "rkd['unit'] = 'Entero Count'\n",
      "sns.tsplot(rkd.reset_index(), \n",
      "           time=\"index\", \n",
      "           unit=\"unit\",\n",
      "           value=\"EnteroCount\",\n",
      "           color=\"indianred\",\n",
      "           interpolate=False)"
     ],
     "language": "python",
     "metadata": {},
     "outputs": [
      {
       "metadata": {},
       "output_type": "pyout",
       "prompt_number": 15,
       "text": [
        "<matplotlib.axes._subplots.AxesSubplot at 0x16cfdc50>"
       ]
      },
      {
       "metadata": {},
       "output_type": "display_data",
       "png": "[encoded data removed]",
       "text": [
        "<matplotlib.figure.Figure at 0x16cfd7b8>"
       ]
      }
     ],
     "prompt_number": 15
    },
    {
     "cell_type": "markdown",
     "metadata": {},
     "source": [
      "We can see a pretty clear ceiling at 2500, so to get at the worst offenders, let's see what it looks like for the values higher than that."
     ]
    },
    {
     "cell_type": "code",
     "collapsed": false,
     "input": [
      "condition = rkd['EnteroCount'] > 2500\n",
      "np.extract(condition, rkd)"
     ],
     "language": "python",
     "metadata": {},
     "outputs": [
      {
       "metadata": {},
       "output_type": "pyout",
       "prompt_number": 16,
       "text": [
        "array([85L, 36L, 0.3, Timestamp('2012-09-15 00:00:00'), 0.6, 35L,\n",
        "       'Castleton', 1.0, Timestamp('2011-10-16 00:00:00'),\n",
        "       'Coeymans Landing', 0.0, 'Entero Count', 'Entero Count',\n",
        "       'Coeymans Landing', Timestamp('2009-07-31 00:00:00'), 36L,\n",
        "       'Coxsackie Waterfront Park', 'Coxsackie Waterfront Park', 2420L,\n",
        "       0.1, \"Gay's Point mid-channel\", Timestamp('2012-09-15 00:00:00'),\n",
        "       'Entero Count', 'Entero Count', 0.0, 36L,\n",
        "       Timestamp('2013-08-19 00:00:00'), 35L, 'Hudson Landing Ramp',\n",
        "       'Hudson Landing Ramp', 'Catskill Creek- First Bridge',\n",
        "       'Catskill Creek- First Bridge', 2L, 38L, 'Entero Count',\n",
        "       'Catskill Launch Ramp', 0.0, 33L, 37L, 5L, 37L, 0.2,\n",
        "       Timestamp('2010-08-23 00:00:00'), Timestamp('2010-08-21 00:00:00'),\n",
        "       37L, Timestamp('2010-07-19 00:00:00'), 2L, 37L, 37L,\n",
        "       'Catskill Launch Ramp', Timestamp('2010-05-25 00:00:00')], dtype=object)"
       ]
      }
     ],
     "prompt_number": 16
    },
    {
     "cell_type": "code",
     "collapsed": false,
     "input": [
      "bysite = rkd.groupby('Site').mean()['EnteroCount']\n",
      "bysite['unit'] = 'Entero Count'\n",
      "bysite.columns = ['mean']"
     ],
     "language": "python",
     "metadata": {},
     "outputs": [],
     "prompt_number": 17
    },
    {
     "cell_type": "code",
     "collapsed": false,
     "input": [
      "condition = bysite > 1000\n",
      "condition\n",
      "np.extract(condition, bysite)[0]"
     ],
     "language": "python",
     "metadata": {},
     "outputs": [
      {
       "metadata": {},
       "output_type": "pyout",
       "prompt_number": 18,
       "text": [
        "4206.8378378378375"
       ]
      }
     ],
     "prompt_number": 18
    },
    {
     "cell_type": "code",
     "collapsed": false,
     "input": [
      "bysite['unit'] = 'Entero Count Mean'\n",
      "sns.regplot(bysite)"
     ],
     "language": "python",
     "metadata": {},
     "outputs": [
      {
       "ename": "TypeError",
       "evalue": "regplot() takes at least 2 arguments (1 given)",
       "output_type": "pyerr",
       "traceback": [
        "\u001b[1;31m---------------------------------------------------------------------------\u001b[0m\n\u001b[1;31mTypeError\u001b[0m                                 Traceback (most recent call last)",
        "\u001b[1;32m<ipython-input-19-c9cf099541bf>\u001b[0m in \u001b[0;36m<module>\u001b[1;34m()\u001b[0m\n\u001b[0;32m      1\u001b[0m \u001b[0mbysite\u001b[0m\u001b[1;33m[\u001b[0m\u001b[1;34m'unit'\u001b[0m\u001b[1;33m]\u001b[0m \u001b[1;33m=\u001b[0m \u001b[1;34m'Entero Count Mean'\u001b[0m\u001b[1;33m\u001b[0m\u001b[0m\n\u001b[1;32m----> 2\u001b[1;33m \u001b[0msns\u001b[0m\u001b[1;33m.\u001b[0m\u001b[0mregplot\u001b[0m\u001b[1;33m(\u001b[0m\u001b[0mbysite\u001b[0m\u001b[1;33m)\u001b[0m\u001b[1;33m\u001b[0m\u001b[0m\n\u001b[0m",
        "\u001b[1;31mTypeError\u001b[0m: regplot() takes at least 2 arguments (1 given)"
       ]
      }
     ],
     "prompt_number": 19
    },
    {
     "cell_type": "code",
     "collapsed": false,
     "input": [
      "sns.factorplot(x='Site', y='EnteroCount', data=rkd, kind='bar')"
     ],
     "language": "python",
     "metadata": {},
     "outputs": [
      {
       "metadata": {},
       "output_type": "pyout",
       "prompt_number": 20,
       "text": [
        "<seaborn.axisgrid.FacetGrid at 0x16d98b38>"
       ]
      },
      {
       "metadata": {},
       "output_type": "display_data",
       "png": "[encoded data removed]",
       "text": [
        "<matplotlib.figure.Figure at 0x16d98f98>"
       ]
      }
     ],
     "prompt_number": 20
    },
    {
     "cell_type": "code",
     "collapsed": false,
     "input": [
      "g = rkd.groupby('Site')\n",
      "g[g['EnteroCount'].mean() > 1000]"
     ],
     "language": "python",
     "metadata": {},
     "outputs": [
      {
       "ename": "KeyError",
       "evalue": "'Columns not found: False, True'",
       "output_type": "pyerr",
       "traceback": [
        "\u001b[1;31m---------------------------------------------------------------------------\u001b[0m\n\u001b[1;31mKeyError\u001b[0m                                  Traceback (most recent call last)",
        "\u001b[1;32m<ipython-input-21-9b24529b705d>\u001b[0m in \u001b[0;36m<module>\u001b[1;34m()\u001b[0m\n\u001b[0;32m      1\u001b[0m \u001b[0mg\u001b[0m \u001b[1;33m=\u001b[0m \u001b[0mrkd\u001b[0m\u001b[1;33m.\u001b[0m\u001b[0mgroupby\u001b[0m\u001b[1;33m(\u001b[0m\u001b[1;34m'Site'\u001b[0m\u001b[1;33m)\u001b[0m\u001b[1;33m\u001b[0m\u001b[0m\n\u001b[1;32m----> 2\u001b[1;33m \u001b[0mg\u001b[0m\u001b[1;33m[\u001b[0m\u001b[0mg\u001b[0m\u001b[1;33m[\u001b[0m\u001b[1;34m'EnteroCount'\u001b[0m\u001b[1;33m]\u001b[0m\u001b[1;33m.\u001b[0m\u001b[0mmean\u001b[0m\u001b[1;33m(\u001b[0m\u001b[1;33m)\u001b[0m \u001b[1;33m>\u001b[0m \u001b[1;36m1000\u001b[0m\u001b[1;33m]\u001b[0m\u001b[1;33m\u001b[0m\u001b[0m\n\u001b[0m",
        "\u001b[1;32mC:\\Users\\Brett\\Anaconda\\lib\\site-packages\\pandas\\core\\groupby.pyc\u001b[0m in \u001b[0;36m__getitem__\u001b[1;34m(self, key)\u001b[0m\n\u001b[0;32m   2991\u001b[0m                 \u001b[0mbad_keys\u001b[0m \u001b[1;33m=\u001b[0m \u001b[0mlist\u001b[0m\u001b[1;33m(\u001b[0m\u001b[0mset\u001b[0m\u001b[1;33m(\u001b[0m\u001b[0mkey\u001b[0m\u001b[1;33m)\u001b[0m\u001b[1;33m.\u001b[0m\u001b[0mdifference\u001b[0m\u001b[1;33m(\u001b[0m\u001b[0mself\u001b[0m\u001b[1;33m.\u001b[0m\u001b[0mobj\u001b[0m\u001b[1;33m.\u001b[0m\u001b[0mcolumns\u001b[0m\u001b[1;33m)\u001b[0m\u001b[1;33m)\u001b[0m\u001b[1;33m\u001b[0m\u001b[0m\n\u001b[0;32m   2992\u001b[0m                 raise KeyError(\"Columns not found: %s\"\n\u001b[1;32m-> 2993\u001b[1;33m                                % str(bad_keys)[1:-1])\n\u001b[0m\u001b[0;32m   2994\u001b[0m             return DataFrameGroupBy(self.obj, self.grouper, selection=key,\n\u001b[0;32m   2995\u001b[0m                                     \u001b[0mgrouper\u001b[0m\u001b[1;33m=\u001b[0m\u001b[0mself\u001b[0m\u001b[1;33m.\u001b[0m\u001b[0mgrouper\u001b[0m\u001b[1;33m,\u001b[0m\u001b[1;33m\u001b[0m\u001b[0m\n",
        "\u001b[1;31mKeyError\u001b[0m: 'Columns not found: False, True'"
       ]
      }
     ],
     "prompt_number": 21
    },
    {
     "cell_type": "code",
     "collapsed": false,
     "input": [],
     "language": "python",
     "metadata": {},
     "outputs": []
    }
   ],
   "metadata": {}
  }
 ]
}