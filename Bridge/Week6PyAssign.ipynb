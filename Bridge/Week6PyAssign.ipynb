{
 "metadata": {
  "name": "",
  "signature": "sha256:62428a1e167658a7af78a383fd8d4cbf54ba51b689d8e989ed04eb8be885ba4f"
 },
 "nbformat": 3,
 "nbformat_minor": 0,
 "worksheets": [
  {
   "cells": [
    {
     "cell_type": "code",
     "collapsed": false,
     "input": [
      "# -*- coding: utf-8 -*-\n",
      "\"\"\"\n",
      "This file loads in a text file that holds the following:\n",
      "\n",
      "1 Germany  | W 3 | T 4 | W 2\n",
      "2 United States | W 4 | T 3 | L 1\n",
      "3 Portugal | L 1 | T 2 | W 4\n",
      "4 Ghana | L 2 | T 1 | L 3\n",
      "\n",
      "and then uses regular expressions to parse the values\n",
      "\"\"\"\n",
      "import re\n",
      "txt = open('C:\\Users\\Brett\\Dropbox\\CUNY\\week6pyAssign.txt', 'r')\n",
      "for line in txt:\n",
      "    try:\n",
      "        line=line.rstrip()\n",
      "        print 'Rank: ' + re.findall('^[0-9]', line)[0]\n",
      "        print 'Country: ' + re.findall('[A-Z][a-z]+', line)[0]\n",
      "        x = re.findall('[W,L,T]\\s[0-9]', line)\n",
      "        print 'Results: '\n",
      "        for i in x:\n",
      "            print i\n",
      "        print ''\n",
      "    except ValueError:\n",
      "        continue\n",
      "txt.close()"
     ],
     "language": "python",
     "metadata": {},
     "outputs": []
    }
   ],
   "metadata": {}
  }
 ]
}