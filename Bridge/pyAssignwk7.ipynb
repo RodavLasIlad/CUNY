{
 "metadata": {
  "name": "",
  "signature": "sha256:38ba4b5de1ba5d37fc7c35e37b49fcc7b89d5a0ae6e03de90c5906d756966a31"
 },
 "nbformat": 3,
 "nbformat_minor": 0,
 "worksheets": [
  {
   "cells": [
    {
     "cell_type": "code",
     "collapsed": false,
     "input": [
      "from bs4 import BeautifulSoup\n",
      "import requests\n",
      "\n",
      "r = requests.get(\"http://sps.cuny.edu/programs/ms_dataanalytics\") #CUNY MSDA page\n",
      "data = r.text\n",
      "soup = BeautifulSoup(data)\n",
      "for link in soup.find_all('a'):\n",
      "    a = (link.get('href'))\n",
      "    if a[0] == 'h': #this checks to see if the first letter is a valid web address--otherwise it spit out a bunch of links that were subdirectories of the page\n",
      "        print a "
     ],
     "language": "python",
     "metadata": {},
     "outputs": []
    }
   ],
   "metadata": {}
  }
 ]
}