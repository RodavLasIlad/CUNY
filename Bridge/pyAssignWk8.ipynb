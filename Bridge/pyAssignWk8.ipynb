{
 "metadata": {
  "name": "",
  "signature": "sha256:a0410fd5314e030260f25b8c3d8923c04992f0ab9b535e69a3b2618142fb43b1"
 },
 "nbformat": 3,
 "nbformat_minor": 0,
 "worksheets": [
  {
   "cells": [
    {
     "cell_type": "code",
     "collapsed": false,
     "input": [
      "# -*- coding: utf-8 -*-\n",
      "\"\"\"\n",
      "Created on Mon Jul 21 20:51:21 2014\n",
      "\n",
      "@author: Brett\n",
      "\"\"\"\n",
      "\n",
      "import sqlite3\n",
      "import random\n",
      "conn = sqlite3.connect(r\"C:\\Users\\Brett\\Dropbox\\CUNY\\egdb.sqlite\") #Creates new database in SQLite\n",
      "cur = conn.cursor()\n",
      "\n",
      "cur.execute('DROP TABLE IF EXISTS  table1')\n",
      "cur.execute('CREATE TABLE table1 (id INTEGER, names TEXT, lastNameID INTEGER)')\n",
      "names = [\"tom\", \"dick\", \"harry\", \"steve\", \"brett\", \"thomas\"]\n",
      "for i in range(len(names)):\n",
      "    cur.execute('INSERT INTO table1 (id, names, lastNameID) VALUES (?,?,?)', ((i+1), names[i],random.randrange(1,4,1))) #Gives everyone a random last name\n",
      "\n",
      "lastnames = [\"smith\", \"thompkins\", \"doe\"]\n",
      "cur.execute('DROP TABLE IF EXISTS  table2')\n",
      "cur.execute('CREATE TABLE table2 (lastNameID INTEGER, lastName TEXT)')\n",
      "for i in range(len(lastnames)):\n",
      "    cur.execute('INSERT INTO table2 (lastNameID, lastName) VALUES (?,?)', ((i+1), lastnames[i]))\n",
      "cur.execute('SELECT names, lastName FROM table1 LEFT JOIN table2 ON table1.lastNameID = table2.lastnameID')\n",
      "for row in cur:\n",
      "    print row\n",
      "conn.commit()\n",
      "cur.close()"
     ],
     "language": "python",
     "metadata": {},
     "outputs": []
    }
   ],
   "metadata": {}
  }
 ]
}