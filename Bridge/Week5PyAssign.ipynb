{
 "metadata": {
  "name": "",
  "signature": "sha256:bb2aeba12e247c3285db67a911f1110b4d0603a89819da2a162d066bac4d5da4"
 },
 "nbformat": 3,
 "nbformat_minor": 0,
 "worksheets": [
  {
   "cells": [
    {
     "cell_type": "code",
     "collapsed": false,
     "input": [
      "\"\"\"\n",
      "This file loads in the ml-100k, and pulls out movie titles by year (the year is 1995)\n",
      "\"\"\"\n",
      "import time\n",
      "txt = open('C:\\Users\\Brett\\Downloads\\ml-100k\\u.item', 'r')\n",
      "for line in txt:\n",
      "    try:\n",
      "        temp = line.split('|')\n",
      "        strtime = temp[2]\n",
      "        date = time.strptime(strtime, '%d-%b-%Y')\n",
      "        year = date.tm_year\n",
      "        if year == 1995:\n",
      "            print temp[1].split('(')[0]\n",
      "    except ValueError:\n",
      "        continue\n",
      "txt.close()"
     ],
     "language": "python",
     "metadata": {},
     "outputs": []
    }
   ],
   "metadata": {}
  }
 ]
}