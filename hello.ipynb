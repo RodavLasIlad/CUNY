{
 "metadata": {
  "name": "",
  "signature": "sha256:785b9b285e4e7b74f91017952b603dc8c27fce1fee4c913b53022fb6e15f7e73"
 },
 "nbformat": 3,
 "nbformat_minor": 0,
 "worksheets": [
  {
   "cells": [
    {
     "cell_type": "code",
     "collapsed": false,
     "input": [
      "print(\"Hello, world\")"
     ],
     "language": "python",
     "metadata": {},
     "outputs": []
    }
   ],
   "metadata": {}
  }
 ]
}